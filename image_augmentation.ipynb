{
 "cells": [
  {
   "cell_type": "code",
   "execution_count": 2,
   "id": "9e7f1030",
   "metadata": {},
   "outputs": [],
   "source": [
    "from keras.preprocessing.image import ImageDataGenerator\n",
    "from skimage import io\n",
    "datagen = ImageDataGenerator(        \n",
    "        rotation_range = 40,\n",
    "        shear_range = 0.2,\n",
    "        zoom_range = 0.2,\n",
    "        horizontal_flip = True,\n",
    "        brightness_range = (0.5, 1.5))"
   ]
  },
  {
   "cell_type": "markdown",
   "id": "cd47b7ee",
   "metadata": {},
   "source": [
    "Image data generator is imported from Keras for implementing data augmentation on the training data. Other modules like ‘os’, ‘numpy’, ‘io’, Image are imported for implementing the code. The “image_directory” takes the path for the original dataset, and the “size” determines the size of the images in the dataset. The “save_prefix” is used to name the augmented images and “save_format” determines the format of the augmented images, they can be jpeg, png, tiff, etc.,\n",
    "\n",
    "The code when executed saves the images into a new folder names ‘Augmented-images’ the images are named ‘dr’ and saved in ‘JPEG’ format.  The ‘if’ loop is used to determine the number of times the ‘for’ loop needs to be iterated."
   ]
  },
  {
   "cell_type": "code",
   "execution_count": 12,
   "id": "016f99eb",
   "metadata": {},
   "outputs": [],
   "source": [
    "import numpy as np\n",
    "import os\n",
    "from PIL import Image\n",
    "# location of images to be augmented\n",
    "image_directory = r'G:\\\\Damaged_Cars\\\\head_light\\\\moderate\\\\'\n",
    "SIZE = 224\n",
    "dataset = []\n",
    "my_images = os.listdir(image_directory)\n",
    "for i, image_name in enumerate(my_images):    \n",
    "    if (image_name.split('.')[1] == 'jpg'):        \n",
    "        image = io.imread(image_directory + image_name)        \n",
    "        image = Image.fromarray(image, 'RGB')        \n",
    "        image = image.resize((SIZE,SIZE)) \n",
    "        dataset.append(np.array(image))\n",
    "x = np.array(dataset)\n",
    "i = 0\n",
    "for batch in datagen.flow(x, batch_size=16,\n",
    "                          # location to save augmented data\n",
    "                          save_to_dir= r'G:\\\\Damaged_Cars\\\\augmented_headlight',                           \n",
    "                          save_prefix='dr',\n",
    "                          save_format='jpg'):    \n",
    "    i += 1    \n",
    "    if i > 50:        \n",
    "        break"
   ]
  }
 ],
 "metadata": {
  "kernelspec": {
   "display_name": "Python 3 (ipykernel)",
   "language": "python",
   "name": "python3"
  },
  "language_info": {
   "codemirror_mode": {
    "name": "ipython",
    "version": 3
   },
   "file_extension": ".py",
   "mimetype": "text/x-python",
   "name": "python",
   "nbconvert_exporter": "python",
   "pygments_lexer": "ipython3",
   "version": "3.9.12"
  }
 },
 "nbformat": 4,
 "nbformat_minor": 5
}
